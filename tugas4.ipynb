{
 "cells": [
  {
   "cell_type": "markdown",
   "metadata": {},
   "source": [
    "## Tugas\n",
    "- Selesaikan soal-soal berikut dengan membuat program masing-masing soal sesuai yang ditanyakan.\n",
    "- Kerjakan dengan membuat cell code baru di bawah setiap soal\n",
    "- Upload file .ipynb yang telah berisi jawaban lengkap pada Akun Github dengan membuat Repository baru\n"
   ]
  },
  {
   "cell_type": "markdown",
   "metadata": {},
   "source": [
    "1. Tentukan determinan matriks berikut:\n",
    "\n",
    "$$\\displaystyle A = \\left( \\begin{array}{cc}\n",
    "1 & 2 \\\\\n",
    "3 & 4\n",
    "\\end{array} \n",
    "\\right)\n",
    "$$"
   ]
  },
  {
   "cell_type": "code",
   "execution_count": 12,
   "metadata": {},
   "outputs": [
    {
     "name": "stdout",
     "output_type": "stream",
     "text": [
      "Nilai Determinan :\n",
      "-2.0000000000000004\n"
     ]
    }
   ],
   "source": [
    "import numpy as np\n",
    "\n",
    "# Membuat matriks 2x2\n",
    "M = np.array([[1, 2], [3, 4]])\n",
    "\n",
    "# Menghitung determinan matriks\n",
    "determinant = np.linalg.det(M)\n",
    "\n",
    "print(\"Nilai Determinan :\")\n",
    "print(determinant)"
   ]
  },
  {
   "cell_type": "markdown",
   "metadata": {},
   "source": [
    "2. Tentukan invers Matriks Berikut:\n",
    "\n",
    "$$\\displaystyle B = \\left( \\begin{array}{cc}\n",
    "10 & -22 \\\\\n",
    "3 & 45\n",
    "\\end{array} \n",
    "\\right)\n",
    "$$"
   ]
  },
  {
   "cell_type": "code",
   "execution_count": 10,
   "metadata": {},
   "outputs": [
    {
     "name": "stdout",
     "output_type": "stream",
     "text": [
      "Invers :\n",
      "[[ 0.0872093   0.04263566]\n",
      " [-0.00581395  0.01937984]]\n"
     ]
    }
   ],
   "source": [
    "import numpy as np\n",
    "\n",
    "# Membuat matriks 2x2\n",
    "M = np.array([[10, -22], [3, 45]])\n",
    "\n",
    "# Menghitung invers matriks\n",
    "inverse_of_M = np.linalg.inv(M)\n",
    "\n",
    "print(\"Invers :\")\n",
    "print(inverse_of_M)"
   ]
  },
  {
   "cell_type": "markdown",
   "metadata": {},
   "source": [
    "3. Tentukan apakah matriks berikut berkondisi buruk:\n",
    "$$\\displaystyle C = \\left( \\begin{array}{cc}\n",
    "1 & 10^{-10} \\\\\n",
    "10^{-10} & 1\n",
    "\\end{array} \n",
    "\\right)\n",
    "$$"
   ]
  },
  {
   "cell_type": "code",
   "execution_count": 8,
   "metadata": {},
   "outputs": [
    {
     "name": "stdout",
     "output_type": "stream",
     "text": [
      "Nilai Determinan :\n",
      "-15.0\n"
     ]
    }
   ],
   "source": [
    "import numpy as np\n",
    "\n",
    "# Membuat matriks 2x2\n",
    "M = np.array([[1, 10^-10], [10^-10, 1]])\n",
    "\n",
    "# Menghitung determinan matriks\n",
    "determinant = np.linalg.det(M)\n",
    "\n",
    "print(\"Nilai Determinan :\")\n",
    "print(determinant)"
   ]
  },
  {
   "cell_type": "code",
   "execution_count": 4,
   "metadata": {},
   "outputs": [
    {
     "name": "stdout",
     "output_type": "stream",
     "text": [
      "Condition number:\n",
      " 1.6666666666666667\n",
      "Rank:\n",
      " 2\n",
      "Augmented matrix:\n",
      " [[ 1 -4  1]\n",
      " [-4  1  2]]\n"
     ]
    }
   ],
   "source": [
    "from numpy.linalg import \\\n",
    "             cond, matrix_rank\n",
    "\n",
    "A = np.array([[1,10^-10],\n",
    "              [10^-10,1]])\n",
    "\n",
    "print('Condition number:\\n', cond(A))\n",
    "print('Rank:\\n', matrix_rank(A))\n",
    "y = np.array([[1], [2]])\n",
    "A_y = np.concatenate((A, y), axis = 1)\n",
    "print('Augmented matrix:\\n', A_y)"
   ]
  },
  {
   "cell_type": "markdown",
   "metadata": {},
   "source": [
    "Matriks diatas termasuk kedalam matriks yang berkondisi buruk, karena nilai determinannya mendekati atau kurang dari 0 dan condition number atau angka kondisinya menunjukkan angka yang cukup tinggi sehingga matriks semakin dekat dengan singular."
   ]
  },
  {
   "cell_type": "markdown",
   "metadata": {},
   "source": [
    "4. Tentukan apakah sistem persamaan linier berikut memiliki solusi. Jika ada, bagaimana solusinya?\n",
    "\n",
    "$$\\displaystyle A = \\left( \\begin{array}{cc}\n",
    "1 & 2 \\\\\n",
    "3 & 4\n",
    "\\end{array} \n",
    "\\right) $$\n",
    "\n",
    "\n",
    "$$\\displaystyle\n",
    "b =  \\left( \\begin{array}{cc}\n",
    "5 & 6 \n",
    "\\end{array} \n",
    "\\right) \\\\\n",
    "$$"
   ]
  },
  {
   "cell_type": "code",
   "execution_count": 6,
   "metadata": {},
   "outputs": [
    {
     "name": "stdout",
     "output_type": "stream",
     "text": [
      "Solusi dari sistem persamaan linear:\n",
      "x = -3.9999999999999996\n",
      "y = 4.5\n"
     ]
    }
   ],
   "source": [
    "import numpy as np\n",
    "\n",
    "# Matriks koefisien\n",
    "A = np.array([[1, 2],\n",
    "              [3, 4]])\n",
    "\n",
    "# Vektor hasil\n",
    "B = np.array([5, 6])\n",
    "\n",
    "# Menghitung invers matriks koefisien\n",
    "A_inv = np.linalg.inv(A)\n",
    "\n",
    "# Menyelesaikan sistem persamaan linear\n",
    "X = np.dot(A_inv, B)\n",
    "\n",
    "# Menampilkan hasil\n",
    "print(\"Solusi dari sistem persamaan linear:\")\n",
    "print(\"x =\", X[0])\n",
    "print(\"y =\", X[1])\n"
   ]
  },
  {
   "cell_type": "markdown",
   "metadata": {},
   "source": [
    "5. Tentukan dimensi ruang nol matriks berikut:\n",
    "\n",
    "\n",
    "$$\\displaystyle\n",
    "C =\n",
    "\\left(\n",
    "\\begin{array}{ccc}\n",
    "1 & 2 & 3 \\\\\n",
    "4 & 5 & 6 \\\\\n",
    "7 & 8 & 9\n",
    "\\end{array}\n",
    "\\right)\n",
    "$$"
   ]
  },
  {
   "cell_type": "code",
   "execution_count": 7,
   "metadata": {},
   "outputs": [
    {
     "name": "stdout",
     "output_type": "stream",
     "text": [
      "Matriks dalam bentuk reduksi baris:\n",
      "[[-0.12309149  0.90453403  0.40824829]\n",
      " [-0.49236596  0.30151134 -0.81649658]\n",
      " [-0.86164044 -0.30151134  0.40824829]]\n",
      "\n",
      "Kolom pivot:\n",
      "[[-8.12403840e+00 -9.60113630e+00 -1.10782342e+01]\n",
      " [ 0.00000000e+00  9.04534034e-01  1.80906807e+00]\n",
      " [ 0.00000000e+00  0.00000000e+00 -8.88178420e-16]]\n",
      "\n",
      "Dimensi ruang nol: 0\n"
     ]
    }
   ],
   "source": [
    "import numpy as np\n",
    "\n",
    "\n",
    "C = np.array([\n",
    "    [1, 2, 3],\n",
    "    [4, 5, 6],\n",
    "    [7, 8, 9]\n",
    "])\n",
    "\n",
    "# Reduksi baris\n",
    "reduced_row_echelon_form, pivot_columns = np.linalg.qr(C, mode='complete')\n",
    "\n",
    "# Hitung dimensi ruang nol\n",
    "num_columns = C.shape[1]\n",
    "num_pivot_columns = len(pivot_columns)\n",
    "dimension_null_space = num_columns - num_pivot_columns\n",
    "\n",
    "print(\"Matriks dalam bentuk reduksi baris:\")\n",
    "print(reduced_row_echelon_form)\n",
    "print(\"\\nKolom pivot:\")\n",
    "print(pivot_columns)\n",
    "print(\"\\nDimensi ruang nol:\", dimension_null_space)\n"
   ]
  }
 ],
 "metadata": {
  "kernelspec": {
   "display_name": "Python 3",
   "language": "python",
   "name": "python3"
  },
  "language_info": {
   "codemirror_mode": {
    "name": "ipython",
    "version": 3
   },
   "file_extension": ".py",
   "mimetype": "text/x-python",
   "name": "python",
   "nbconvert_exporter": "python",
   "pygments_lexer": "ipython3",
   "version": "3.10.10"
  }
 },
 "nbformat": 4,
 "nbformat_minor": 2
}
